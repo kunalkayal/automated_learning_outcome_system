{
  "cells": [
    {
      "cell_type": "code",
      "execution_count": 1,
      "metadata": {
        "colab": {
          "base_uri": "https://localhost:8080/"
        },
        "id": "4i1EysFOsKhv",
        "outputId": "90623cd2-7f63-4509-c3ac-ea914cbcf372"
      },
      "outputs": [
        {
          "name": "stdout",
          "output_type": "stream",
          "text": [
            "Mounted at /content/drive\n"
          ]
        }
      ],
      "source": [
        "# mount google drive\n",
        "from google.colab import drive\n",
        "drive.mount('/content/drive')\n",
        "\n"
      ]
    },
    {
      "cell_type": "code",
      "execution_count": 2,
      "metadata": {
        "colab": {
          "base_uri": "https://localhost:8080/"
        },
        "id": "NOUrUpyeNVhM",
        "outputId": "52a7b69c-4e58-4315-ac6d-6ffb02c9d119"
      },
      "outputs": [
        {
          "name": "stdout",
          "output_type": "stream",
          "text": [
            "Collecting docx2txt\n",
            "  Downloading docx2txt-0.8.tar.gz (2.8 kB)\n",
            "  Preparing metadata (setup.py) ... \u001b[?25l\u001b[?25hdone\n",
            "Building wheels for collected packages: docx2txt\n",
            "  Building wheel for docx2txt (setup.py) ... \u001b[?25l\u001b[?25hdone\n",
            "  Created wheel for docx2txt: filename=docx2txt-0.8-py3-none-any.whl size=3960 sha256=647e67b4af60868ac7b69bed883f2f0cd5250f11868d954099d92651bf2023bb\n",
            "  Stored in directory: /root/.cache/pip/wheels/22/58/cf/093d0a6c3ecfdfc5f6ddd5524043b88e59a9a199cb02352966\n",
            "Successfully built docx2txt\n",
            "Installing collected packages: docx2txt\n",
            "Successfully installed docx2txt-0.8\n"
          ]
        }
      ],
      "source": [
        "%pip install docx2txt\n",
        "import docx2txt\n",
        "Text = docx2txt.process(\"/content/drive/MyDrive/B.TechProject/test data.docx\")"
      ]
    },
    {
      "cell_type": "code",
      "execution_count": 3,
      "metadata": {
        "id": "mXWQOwtFNt_d"
      },
      "outputs": [],
      "source": [
        "TextOne=Text.split(\"Content\",1)[1]\n",
        "TextT=TextOne.split(\"Course Outcome:\",1)[0]\n",
        "Text=TextT"
      ]
    },
    {
      "cell_type": "code",
      "execution_count": 5,
      "metadata": {
        "colab": {
          "base_uri": "https://localhost:8080/"
        },
        "id": "otCqWD-hN5Rd",
        "outputId": "f534fb6b-e1bd-4902-ed66-32a9182bd804"
      },
      "outputs": [
        {
          "name": "stderr",
          "output_type": "stream",
          "text": [
            "[nltk_data] Downloading package punkt to /root/nltk_data...\n",
            "[nltk_data]   Package punkt is already up-to-date!\n",
            "[nltk_data] Downloading package punkt_tab to /root/nltk_data...\n",
            "[nltk_data]   Unzipping tokenizers/punkt_tab.zip.\n"
          ]
        }
      ],
      "source": [
        "import nltk\n",
        "from nltk import word_tokenize\n",
        "import string\n",
        "\n",
        "nltk.download('punkt')\n",
        "# add below lines\n",
        "nltk.download('punkt_tab')\n",
        "\n",
        "def clean(text):\n",
        "    text = text.lower()\n",
        "    printable = set(string.printable)\n",
        "    text = filter(lambda x: x in printable, text)\n",
        "    text = \"\".join(list(text))\n",
        "    return text\n",
        "\n",
        "Cleaned_text = clean(Text)\n",
        "text = word_tokenize(Cleaned_text)\n"
      ]
    },
    {
      "cell_type": "markdown",
      "metadata": {
        "id": "1tvn7bsaOAMW"
      },
      "source": [
        "Groping with POS TAG\n",
        "List of POS_TAGS in NLTK\n"
      ]
    },
    {
      "cell_type": "code",
      "execution_count": 8,
      "metadata": {
        "colab": {
          "base_uri": "https://localhost:8080/"
        },
        "id": "doY4Ox94ODOu",
        "outputId": "10c611bb-7cf0-4b23-c0c5-a706b40c6300"
      },
      "outputs": [
        {
          "name": "stderr",
          "output_type": "stream",
          "text": [
            "[nltk_data] Downloading package averaged_perceptron_tagger_eng to\n",
            "[nltk_data]     /root/nltk_data...\n",
            "[nltk_data]   Unzipping taggers/averaged_perceptron_tagger_eng.zip.\n"
          ]
        }
      ],
      "source": [
        "nltk.download('averaged_perceptron_tagger_eng')\n",
        "\n",
        "POS_tag = nltk.pos_tag(text)\n",
        "\n"
      ]
    },
    {
      "cell_type": "markdown",
      "metadata": {
        "id": "A0qysfaQOKf4"
      },
      "source": []
    },
    {
      "cell_type": "code",
      "execution_count": 9,
      "metadata": {
        "colab": {
          "base_uri": "https://localhost:8080/"
        },
        "id": "MiuCBbP1OLZ1",
        "outputId": "cc2d73bc-3691-4842-a319-6adb92e6d37b"
      },
      "outputs": [
        {
          "name": "stderr",
          "output_type": "stream",
          "text": [
            "[nltk_data] Downloading package wordnet to /root/nltk_data...\n",
            "[nltk_data] Downloading package omw-1.4 to /root/nltk_data...\n"
          ]
        }
      ],
      "source": [
        "nltk.download('wordnet')\n",
        "nltk.download('omw-1.4')\n",
        "from nltk.stem import WordNetLemmatizer\n",
        "\n",
        "wordnet_lemmatizer = WordNetLemmatizer()\n",
        "\n",
        "adjective_tags = ['JJ','JJR','JJS']\n",
        "\n",
        "lemmatized_text = []\n",
        "\n",
        "for word in POS_tag:\n",
        "    if word[1] in adjective_tags:\n",
        "        lemmatized_text.append(str(wordnet_lemmatizer.lemmatize(word[0],pos=\"a\")))\n",
        "    else:\n",
        "        lemmatized_text.append(str(wordnet_lemmatizer.lemmatize(word[0]))) #default POS = noun\n",
        "\n"
      ]
    },
    {
      "cell_type": "code",
      "execution_count": 10,
      "metadata": {
        "id": "j9yvZWL9OP7G"
      },
      "outputs": [],
      "source": [
        "lemmatized_text=lemmatized_text[2:]\n",
        "POS_tag = nltk.pos_tag(lemmatized_text)"
      ]
    },
    {
      "cell_type": "markdown",
      "metadata": {
        "id": "z25H-ICEOV0m"
      },
      "source": [
        "Get Rid Off from STOP WORDS"
      ]
    },
    {
      "cell_type": "code",
      "execution_count": 11,
      "metadata": {
        "id": "_XQdUDWPOWq1"
      },
      "outputs": [],
      "source": [
        "stopwords = []\n",
        "\n",
        "wanted_POS = ['NN','NNS','NNP','NNPS','JJ','JJR','JJS','VBG','FW']\n",
        "\n",
        "for word in POS_tag:\n",
        "    if word[1] not in wanted_POS:\n",
        "        stopwords.append(word[0])\n",
        "\n",
        "punctuations = list(str(string.punctuation))\n",
        "\n",
        "stopwords = stopwords + punctuations"
      ]
    },
    {
      "cell_type": "code",
      "execution_count": 13,
      "metadata": {
        "id": "tbUMs4xwOZfu"
      },
      "outputs": [],
      "source": [
        "stopword_file = open(\"/content/drive/MyDrive/B.TechProject/stop_words.txt\", \"r\")\n",
        "\n",
        "lots_of_stopwords = []\n",
        "\n",
        "for line in stopword_file.readlines():\n",
        "    lots_of_stopwords.append(str(line.strip()))\n",
        "\n",
        "stopwords_plus = []\n",
        "stopwords_plus = stopwords + lots_of_stopwords\n",
        "stopwords_plus = set(stopwords_plus)\n",
        "\n",
        "#Stopwords_plus contain total set of all stopwords"
      ]
    },
    {
      "cell_type": "code",
      "execution_count": 14,
      "metadata": {
        "id": "w_u0DvsjOiEp"
      },
      "outputs": [],
      "source": [
        "processed_text = []\n",
        "for word in lemmatized_text:\n",
        "    if word not in stopwords_plus:\n",
        "        processed_text.append(word)\n"
      ]
    },
    {
      "cell_type": "code",
      "execution_count": 15,
      "metadata": {
        "id": "zlx51-U2Ok_G"
      },
      "outputs": [],
      "source": [
        "vocabulary = list(set(processed_text))\n"
      ]
    },
    {
      "cell_type": "code",
      "execution_count": 16,
      "metadata": {
        "id": "Xd8DGjpAOqwG"
      },
      "outputs": [],
      "source": [
        "import numpy as np\n",
        "import math\n",
        "vocab_len = len(vocabulary)\n",
        "\n",
        "weighted_edge = np.zeros((vocab_len,vocab_len),dtype=np.float32)\n",
        "\n",
        "score = np.zeros((vocab_len),dtype=np.float32)\n",
        "window_size = 3\n",
        "covered_coocurrences = []\n",
        "\n",
        "for i in range(0,vocab_len):\n",
        "    score[i]=1\n",
        "    for j in range(0,vocab_len):\n",
        "        if j==i:\n",
        "            weighted_edge[i][j]=0\n",
        "        else:\n",
        "            for window_start in range(0,(len(processed_text)-window_size)):\n",
        "\n",
        "                window_end = window_start+window_size\n",
        "\n",
        "                window = processed_text[window_start:window_end]\n",
        "\n",
        "                if (vocabulary[i] in window) and (vocabulary[j] in window):\n",
        "\n",
        "                    index_of_i = window_start + window.index(vocabulary[i])\n",
        "                    index_of_j = window_start + window.index(vocabulary[j])\n",
        "\n",
        "                    # index_of_x is the absolute position of the xth term in the window\n",
        "                    # (counting from 0)\n",
        "                    # in the processed_text\n",
        "\n",
        "                    if [index_of_i,index_of_j] not in covered_coocurrences:\n",
        "                        weighted_edge[i][j]+=1/math.fabs(index_of_i-index_of_j)\n",
        "                        covered_coocurrences.append([index_of_i,index_of_j])\n",
        "\n"
      ]
    },
    {
      "cell_type": "code",
      "execution_count": 17,
      "metadata": {
        "id": "q6mvyBorOuCG"
      },
      "outputs": [],
      "source": [
        "inout = np.zeros((vocab_len),dtype=np.float32)\n",
        "\n",
        "for i in range(0,vocab_len):\n",
        "    for j in range(0,vocab_len):\n",
        "        inout[i]+=weighted_edge[i][j]"
      ]
    },
    {
      "cell_type": "code",
      "execution_count": 18,
      "metadata": {
        "colab": {
          "base_uri": "https://localhost:8080/"
        },
        "id": "tU330lbBOwl2",
        "outputId": "adb7a478-5b32-4356-c44a-63b3bae6edbd"
      },
      "outputs": [
        {
          "name": "stdout",
          "output_type": "stream",
          "text": [
            "Converging at iteration 28....\n"
          ]
        }
      ],
      "source": [
        "MAX_ITERATIONS = 50\n",
        "d=0.85\n",
        "threshold = 0.0001 #convergence threshold\n",
        "\n",
        "for iter in range(0,MAX_ITERATIONS):\n",
        "    prev_score = np.copy(score)\n",
        "\n",
        "    for i in range(0,vocab_len):\n",
        "\n",
        "        summation = 0\n",
        "        for j in range(0,vocab_len):\n",
        "            if weighted_edge[i][j] != 0:\n",
        "                summation += (weighted_edge[i][j]/inout[j])*score[j]\n",
        "\n",
        "        score[i] = (1-d) + d*(summation)\n",
        "\n",
        "    if np.sum(np.fabs(prev_score-score)) <= threshold: #convergence condition\n",
        "        print(\"Converging at iteration \"+str(iter)+\"....\")\n",
        "        break"
      ]
    },
    {
      "cell_type": "code",
      "execution_count": 19,
      "metadata": {
        "colab": {
          "base_uri": "https://localhost:8080/"
        },
        "id": "sZiyBaT4OzrN",
        "outputId": "58ca20c3-6e0c-41c2-e9f5-ed8265c3f5dc"
      },
      "outputs": [
        {
          "name": "stdout",
          "output_type": "stream",
          "text": [
            "Score of management: 2.8473296\n",
            "Score of process: 0.69745016\n",
            "Score of attribute: 0.65941054\n",
            "Score of tree: 0.8268794\n",
            "Score of dfds: 0.92696106\n",
            "Score of scheduling: 0.66623694\n",
            "Score of critical: 0.84934855\n",
            "Score of acceptance: 0.74419236\n",
            "Score of white-box: 0.7240703\n",
            "Score of logical: 0.9212333\n",
            "Score of er: 0.86946756\n",
            "Score of concept: 0.6962515\n",
            "Score of repair: 0.78555673\n",
            "Score of mttf: 0.80357563\n",
            "Score of software: 7.5382953\n",
            "Score of wb: 0.7820784\n",
            "Score of level: 0.6936784\n",
            "Score of reliability: 1.4522562\n",
            "Score of total: 0.6629527\n",
            "Score of regression: 0.7123163\n",
            "Score of feasibility: 0.73151153\n",
            "Score of project: 2.092928\n",
            "Score of standard: 0.6719456\n",
            "Score of estimation-cocomo: 0.77136934\n",
            "Score of black-box: 0.7319427\n",
            "Score of objective: 0.73616683\n",
            "Score of cyclomatic: 0.7552928\n",
            "Score of spiral: 0.7044086\n",
            "Score of context: 0.78955626\n",
            "Score of data: 0.92124915\n",
            "Score of agile: 0.6897708\n",
            "Score of engineering: 0.74720126\n",
            "Score of test: 0.76499444\n",
            "Score of cost: 0.73701704\n",
            "Score of sr: 0.7377454\n",
            "Score of english: 0.74207807\n",
            "Score of requirement: 0.7182797\n",
            "Score of mutation: 0.7243668\n",
            "Score of information: 0.76985955\n",
            "Score of tools-: 0.7310399\n",
            "Score of gantt: 0.82756984\n",
            "Score of diagram: 1.5678252\n",
            "Score of complexity: 0.6476661\n",
            "Score of metric: 0.69116145\n",
            "Score of pert: 0.9375661\n",
            "Score of generation: 0.78049004\n",
            "Score of quality: 2.7509422\n",
            "Score of mark: 0.52992815\n",
            "Score of configuration: 0.6765729\n",
            "Score of function: 0.7854048\n",
            "Score of waterfall: 0.7053613\n",
            "Score of validation: 0.69719625\n",
            "Score of availability: 0.73479074\n",
            "Score of factor: 0.63899744\n",
            "Score of analysis: 1.98542\n",
            "Score of cycle: 0.72502095\n",
            "Score of physical: 0.89971733\n",
            "Score of structure: 0.8229274\n",
            "Score of dictionary: 0.8997435\n",
            "Score of method: 0.15\n",
            "Score of chart: 1.5500808\n",
            "Score of dfd: 0.86939037\n",
            "Score of system: 0.83418196\n",
            "Score of testing: 2.9472997\n",
            "Score of case: 0.78278613\n",
            "Score of decision: 1.3167136\n",
            "Score of halstead: 0.7235458\n",
            "Score of planning: 0.651051\n",
            "Score of model: 1.8887517\n",
            "Score of design: 0.74494773\n",
            "Score of point: 0.7718229\n",
            "Score of assurance: 0.6509315\n",
            "Score of hazard: 0.7659605\n",
            "Score of life: 0.728568\n",
            "Score of definition: 0.73422176\n",
            "Score of development: 0.72958356\n",
            "Score of mtbf: 0.81286067\n",
            "Score of path: 0.5716004\n",
            "Score of risk: 0.6594438\n",
            "Score of table: 0.8339427\n"
          ]
        }
      ],
      "source": [
        "for i in range(0,vocab_len):\n",
        "    print(\"Score of \"+vocabulary[i]+\": \"+str(score[i]))"
      ]
    },
    {
      "cell_type": "code",
      "execution_count": 20,
      "metadata": {
        "colab": {
          "base_uri": "https://localhost:8080/"
        },
        "id": "9QK41NhLO2hd",
        "outputId": "cdb1b375-2dd5-48ab-fb81-f9d9874dc8c7"
      },
      "outputs": [
        {
          "name": "stdout",
          "output_type": "stream",
          "text": [
            "Partitioned Phrases (Candidate Keyphrases): \n",
            "\n",
            "[['mark'], ['information', 'system'], ['software', 'engineering', 'objective'], ['definition'], ['software', 'development', 'life', 'cycle'], ['software', 'process', 'model', 'waterfall', 'model'], ['spiral', 'model'], ['agile', 'model'], ['software', 'requirement'], ['sr'], ['feasibility', 'analysis'], ['software', 'design'], ['context', 'diagram'], ['dfd'], ['physical'], ['logical', 'dfds'], ['data', 'dictionary'], ['er', 'diagram'], ['decision', 'tree'], ['decision', 'table'], ['structure', 'chart'], ['english'], ['software', 'testing'], ['level'], ['testing'], ['white-box'], ['black-box', 'testing'], ['test', 'case', 'generation'], ['acceptance', 'testing'], ['software', 'validation'], ['regression', 'testing'], ['mutation', 'analysis'], ['cyclomatic', 'complexity'], ['reliability'], ['reliability', 'concept'], ['software', 'reliability'], ['hazard'], ['mttf'], ['mtbf'], ['repair'], ['availability'], ['software', 'quality'], ['quality', 'attribute'], ['risk', 'management'], ['quality', 'factor'], ['software', 'quality', 'assurance'], ['quality', 'standard'], ['total', 'quality', 'management'], ['software', 'project', 'management'], ['software', 'project', 'planning'], ['project', 'scheduling'], ['software', 'configuration', 'management'], ['cost', 'estimation-cocomo'], ['function', 'point', 'analysis'], ['halstead', 'metric'], ['project', 'management', 'tools-', 'wb'], ['gantt', 'chart'], ['pert'], ['critical', 'path', 'method']]\n"
          ]
        }
      ],
      "source": [
        "phrases = []\n",
        "\n",
        "phrase = \" \"\n",
        "for word in lemmatized_text:\n",
        "\n",
        "    if word in stopwords_plus:\n",
        "        if phrase!= \" \":\n",
        "            phrases.append(str(phrase).strip().split())\n",
        "        phrase = \" \"\n",
        "    elif word not in stopwords_plus:\n",
        "        phrase+=str(word)\n",
        "        phrase+=\" \"\n",
        "\n",
        "print(\"Partitioned Phrases (Candidate Keyphrases): \\n\")\n",
        "print(phrases)"
      ]
    },
    {
      "cell_type": "code",
      "execution_count": 21,
      "metadata": {
        "colab": {
          "base_uri": "https://localhost:8080/"
        },
        "id": "BTpPuoWUO57W",
        "outputId": "3b047d5e-0431-4306-f832-6e35f8ae8008"
      },
      "outputs": [
        {
          "name": "stdout",
          "output_type": "stream",
          "text": [
            "Unique Phrases (Candidate Keyphrases): \n",
            "\n",
            "[['mark'], ['information', 'system'], ['software', 'engineering', 'objective'], ['definition'], ['software', 'development', 'life', 'cycle'], ['software', 'process', 'model', 'waterfall', 'model'], ['spiral', 'model'], ['agile', 'model'], ['software', 'requirement'], ['sr'], ['feasibility', 'analysis'], ['software', 'design'], ['context', 'diagram'], ['dfd'], ['physical'], ['logical', 'dfds'], ['data', 'dictionary'], ['er', 'diagram'], ['decision', 'tree'], ['decision', 'table'], ['structure', 'chart'], ['english'], ['software', 'testing'], ['level'], ['testing'], ['white-box'], ['black-box', 'testing'], ['test', 'case', 'generation'], ['acceptance', 'testing'], ['software', 'validation'], ['regression', 'testing'], ['mutation', 'analysis'], ['cyclomatic', 'complexity'], ['reliability'], ['reliability', 'concept'], ['software', 'reliability'], ['hazard'], ['mttf'], ['mtbf'], ['repair'], ['availability'], ['software', 'quality'], ['quality', 'attribute'], ['risk', 'management'], ['quality', 'factor'], ['software', 'quality', 'assurance'], ['quality', 'standard'], ['total', 'quality', 'management'], ['software', 'project', 'management'], ['software', 'project', 'planning'], ['project', 'scheduling'], ['software', 'configuration', 'management'], ['cost', 'estimation-cocomo'], ['function', 'point', 'analysis'], ['halstead', 'metric'], ['project', 'management', 'tools-', 'wb'], ['gantt', 'chart'], ['pert'], ['critical', 'path', 'method']]\n"
          ]
        }
      ],
      "source": [
        "unique_phrases = []\n",
        "\n",
        "for phrase in phrases:\n",
        "    if phrase not in unique_phrases:\n",
        "        unique_phrases.append(phrase)\n",
        "\n",
        "print(\"Unique Phrases (Candidate Keyphrases): \\n\")\n",
        "print(unique_phrases)"
      ]
    },
    {
      "cell_type": "code",
      "execution_count": 22,
      "metadata": {
        "colab": {
          "base_uri": "https://localhost:8080/"
        },
        "id": "QlJQQrkfO-Im",
        "outputId": "850c3430-6097-4f8b-d028-19b43cc93610"
      },
      "outputs": [
        {
          "name": "stdout",
          "output_type": "stream",
          "text": [
            "Thinned Unique Phrases (Candidate Keyphrases): \n",
            "\n",
            "[['mark'], ['information', 'system'], ['software', 'engineering', 'objective'], ['definition'], ['software', 'development', 'life', 'cycle'], ['software', 'process', 'model', 'waterfall', 'model'], ['spiral', 'model'], ['agile', 'model'], ['software', 'requirement'], ['sr'], ['feasibility', 'analysis'], ['software', 'design'], ['context', 'diagram'], ['dfd'], ['physical'], ['logical', 'dfds'], ['data', 'dictionary'], ['er', 'diagram'], ['decision', 'tree'], ['decision', 'table'], ['structure', 'chart'], ['english'], ['software', 'testing'], ['level'], ['white-box'], ['black-box', 'testing'], ['test', 'case', 'generation'], ['acceptance', 'testing'], ['software', 'validation'], ['regression', 'testing'], ['mutation', 'analysis'], ['cyclomatic', 'complexity'], ['reliability', 'concept'], ['software', 'reliability'], ['hazard'], ['mttf'], ['mtbf'], ['repair'], ['availability'], ['software', 'quality'], ['quality', 'attribute'], ['risk', 'management'], ['quality', 'factor'], ['software', 'quality', 'assurance'], ['quality', 'standard'], ['total', 'quality', 'management'], ['software', 'project', 'management'], ['software', 'project', 'planning'], ['project', 'scheduling'], ['software', 'configuration', 'management'], ['cost', 'estimation-cocomo'], ['function', 'point', 'analysis'], ['halstead', 'metric'], ['project', 'management', 'tools-', 'wb'], ['gantt', 'chart'], ['pert'], ['critical', 'path', 'method']]\n"
          ]
        }
      ],
      "source": [
        "for word in vocabulary:\n",
        "    #print word\n",
        "    for phrase in unique_phrases:\n",
        "        if (word in phrase) and ([word] in unique_phrases) and (len(phrase)>1):\n",
        "            #if len(phrase)>1 then the current phrase is multi-worded.\n",
        "            #if the word in vocabulary is present in unique_phrases as a single-word-phrase\n",
        "            # and at the same time present as a word within a multi-worded phrase,\n",
        "            # then I will remove the single-word-phrase from the list.\n",
        "            unique_phrases.remove([word])\n",
        "\n",
        "print(\"Thinned Unique Phrases (Candidate Keyphrases): \\n\")\n",
        "print(unique_phrases)"
      ]
    },
    {
      "cell_type": "code",
      "execution_count": 23,
      "metadata": {
        "colab": {
          "base_uri": "https://localhost:8080/"
        },
        "id": "YTeGPD9wPBNO",
        "outputId": "1ef3de15-7142-495c-e7c4-c3f9e81db6e1"
      },
      "outputs": [
        {
          "name": "stdout",
          "output_type": "stream",
          "text": [
            "Keyword: 'mark', Score: 0.5299281477928162\n",
            "Keyword: 'information system', Score: 1.6040415167808533\n",
            "Keyword: 'software engineering objective', Score: 9.02166336774826\n",
            "Keyword: 'definition', Score: 0.7342217564582825\n",
            "Keyword: 'software development life cycle', Score: 9.721467792987823\n",
            "Keyword: 'software process model waterfall model', Score: 12.718610227108002\n",
            "Keyword: 'spiral model', Score: 2.593160331249237\n",
            "Keyword: 'agile model', Score: 2.578522562980652\n",
            "Keyword: 'software requirement', Score: 8.256574988365173\n",
            "Keyword: 'sr', Score: 0.7377454042434692\n",
            "Keyword: 'feasibility analysis', Score: 2.7169315218925476\n",
            "Keyword: 'software design', Score: 8.283243000507355\n",
            "Keyword: 'context diagram', Score: 2.3573814630508423\n",
            "Keyword: 'dfd', Score: 0.8693903684616089\n",
            "Keyword: 'physical', Score: 0.8997173309326172\n",
            "Keyword: 'logical dfds', Score: 1.8481943607330322\n",
            "Keyword: 'data dictionary', Score: 1.820992648601532\n",
            "Keyword: 'er diagram', Score: 2.437292754650116\n",
            "Keyword: 'decision tree', Score: 2.143592953681946\n",
            "Keyword: 'decision table', Score: 2.150656282901764\n",
            "Keyword: 'structure chart', Score: 2.3730081915855408\n",
            "Keyword: 'english', Score: 0.7420780658721924\n",
            "Keyword: 'software testing', Score: 10.485594987869263\n",
            "Keyword: 'level', Score: 0.6936783790588379\n",
            "Keyword: 'white-box', Score: 0.7240703105926514\n",
            "Keyword: 'black-box testing', Score: 3.679242432117462\n",
            "Keyword: 'test case generation', Score: 2.3282706141471863\n",
            "Keyword: 'acceptance testing', Score: 3.6914920806884766\n",
            "Keyword: 'software validation', Score: 8.235491514205933\n",
            "Keyword: 'regression testing', Score: 3.659615993499756\n",
            "Keyword: 'mutation analysis', Score: 2.7097867727279663\n",
            "Keyword: 'cyclomatic complexity', Score: 1.402958869934082\n",
            "Keyword: 'reliability concept', Score: 2.1485077142715454\n",
            "Keyword: 'software reliability', Score: 8.990551471710205\n",
            "Keyword: 'hazard', Score: 0.7659605145454407\n",
            "Keyword: 'mttf', Score: 0.8035756349563599\n",
            "Keyword: 'mtbf', Score: 0.8128606677055359\n",
            "Keyword: 'repair', Score: 0.7855567336082458\n",
            "Keyword: 'availability', Score: 0.7347907423973083\n",
            "Keyword: 'software quality', Score: 10.28923749923706\n",
            "Keyword: 'quality attribute', Score: 3.4103527665138245\n",
            "Keyword: 'risk management', Score: 3.5067734122276306\n",
            "Keyword: 'quality factor', Score: 3.3899396657943726\n",
            "Keyword: 'software quality assurance', Score: 10.940168976783752\n",
            "Keyword: 'quality standard', Score: 3.4228878021240234\n",
            "Keyword: 'total quality management', Score: 6.261224567890167\n",
            "Keyword: 'software project management', Score: 12.47855281829834\n",
            "Keyword: 'software project planning', Score: 10.282274186611176\n",
            "Keyword: 'project scheduling', Score: 2.759164869785309\n",
            "Keyword: 'software configuration management', Score: 11.062197804450989\n",
            "Keyword: 'cost estimation-cocomo', Score: 1.5083863735198975\n",
            "Keyword: 'function point analysis', Score: 3.5426477193832397\n",
            "Keyword: 'halstead metric', Score: 1.4147072434425354\n",
            "Keyword: 'project management tools- wb', Score: 6.453375816345215\n",
            "Keyword: 'gantt chart', Score: 2.3776506185531616\n",
            "Keyword: 'pert', Score: 0.9375661015510559\n",
            "Keyword: 'critical path method', Score: 1.5709489285945892\n"
          ]
        }
      ],
      "source": [
        "phrase_scores = []\n",
        "keywords = []\n",
        "for phrase in unique_phrases:\n",
        "    phrase_score=0\n",
        "    keyword = ''\n",
        "    for word in phrase:\n",
        "        keyword += str(word)\n",
        "        keyword += \" \"\n",
        "        phrase_score+=score[vocabulary.index(word)]\n",
        "    phrase_scores.append(phrase_score)\n",
        "    keywords.append(keyword.strip())\n",
        "\n",
        "i=0\n",
        "for keyword in keywords:\n",
        "    print (\"Keyword: '\"+str(keyword)+\"', Score: \"+str(phrase_scores[i]))\n",
        "    i+=1\n"
      ]
    },
    {
      "cell_type": "code",
      "execution_count": 36,
      "metadata": {
        "colab": {
          "base_uri": "https://localhost:8080/"
        },
        "id": "L-NZdnryX0O4",
        "outputId": "e646f66f-6600-4cf8-be0a-f3a84ea49dd4"
      },
      "outputs": [
        {
          "name": "stdout",
          "output_type": "stream",
          "text": [
            "you've\n",
            "    topic     label\n",
            "0    None         a\n",
            "1    None     about\n",
            "2    None     above\n",
            "3    None     after\n",
            "4    None     again\n",
            "..    ...       ...\n",
            "164  None     would\n",
            "165  None  wouldn't\n",
            "166  None       you\n",
            "167  None    you're\n",
            "168  None    you've\n",
            "\n",
            "[169 rows x 2 columns]\n"
          ]
        }
      ],
      "source": [
        "# Read the content of the text file\n",
        "import pandas as pd\n",
        "\n",
        "with open('/content/drive/MyDrive/B.TechProject/stop_words.txt', 'r') as file:\n",
        "    lines = file.readlines()\n",
        "\n",
        "# Initialize lists to store data\n",
        "topics = []\n",
        "labels = []\n",
        "\n",
        "# Process lines to extract topic and label information\n",
        "current_topic = None\n",
        "for line in lines:\n",
        "    line = line.strip()\n",
        "    if line.startswith('Topic'):\n",
        "        current_topic = line\n",
        "    elif line:\n",
        "        # Extract label information\n",
        "        label = line.split('. ')[-1]\n",
        "        topics.append(current_topic)\n",
        "        labels.append(label)\n",
        "print(label)\n",
        "\n",
        "# Create a Pandas DataFrame\n",
        "df = pd.DataFrame({'topic': topics, 'label': labels})\n",
        "print(df)"
      ]
    },
    {
      "cell_type": "code",
      "execution_count": null,
      "metadata": {
        "id": "AsVlNTgQXZwQ"
      },
      "outputs": [],
      "source": []
    },
    {
      "cell_type": "code",
      "execution_count": 39,
      "metadata": {
        "colab": {
          "base_uri": "https://localhost:8080/"
        },
        "id": "6q4IREqpfaHm",
        "outputId": "b4bd1b69-71cd-4d8b-cd91-89a347a4e3bc"
      },
      "outputs": [
        {
          "name": "stdout",
          "output_type": "stream",
          "text": [
            "                                                  Text      Label\n",
            "0    About what proportion of the population of the...  Knowledge\n",
            "1    Correctly label the brain lobes indicated on t...  Knowledge\n",
            "2                            Define compound interest.  Knowledge\n",
            "3                   Define four types of traceability.  Knowledge\n",
            "4                                 Define mercantilism.  Knowledge\n",
            "..                                                 ...        ...\n",
            "370  Analyze the role of empathy in conflict resolu...   Analysis\n",
            "371  Analyze the effectiveness of specific interven...   Analysis\n",
            "372  Analyze how socioeconomic status influences ac...   Analysis\n",
            "373  Analyze the factors contributing to the digita...   Analysis\n",
            "374  Analyze how historical narratives shape cultur...   Analysis\n",
            "\n",
            "[375 rows x 2 columns]\n",
            "Accuracy: 0.9473684210526315\n",
            "['Knowledge mark', 'Knowledge information system', 'Comprehension software engineering objective', 'Knowledge definition', 'Comprehension software development life cycle', 'Application software process model waterfall model', 'Application spiral model', 'Application agile model', 'Comprehension software requirement', 'Knowledge sr', 'Comprehension feasibility analysis', 'Comprehension software design', 'Knowledge context diagram', 'Knowledge dfd', 'Knowledge physical', 'Knowledge logical dfds', 'Knowledge data dictionary', 'Knowledge er diagram', 'Analysis decision tree', 'Analysis decision table', 'Knowledge structure chart', 'Comprehension english', 'Comprehension software testing', 'Application level', 'Knowledge white-box', 'Knowledge black-box testing', 'Analysis test case generation', 'Knowledge acceptance testing', 'Comprehension software validation', 'Knowledge regression testing', 'Comprehension mutation analysis', 'Knowledge cyclomatic complexity', 'Application reliability concept', 'Comprehension software reliability', 'Knowledge hazard', 'Knowledge mttf', 'Knowledge mtbf', 'Knowledge repair', 'Knowledge availability', 'Comprehension software quality', 'Comprehension quality attribute', 'Knowledge risk management', 'Comprehension quality factor', 'Comprehension software quality assurance', 'Knowledge quality standard', 'Comprehension total quality management', 'Comprehension software project management', 'Comprehension software project planning', 'Knowledge project scheduling', 'Comprehension software configuration management', 'Knowledge cost estimation-cocomo', 'Comprehension function point analysis', 'Knowledge halstead metric', 'Comprehension project management tools- wb', 'Knowledge gantt chart', 'Knowledge pert', 'Comprehension critical path method']\n"
          ]
        }
      ],
      "source": [
        "\n",
        "import pandas as pd\n",
        "from sklearn.model_selection import train_test_split\n",
        "from sklearn.feature_extraction.text import TfidfVectorizer\n",
        "from sklearn.svm import SVC\n",
        "\n",
        "\n",
        "random_bloomsLevel=[]\n",
        "print(pd.read_csv('/content/drive/MyDrive/B.TechProject/data2.txt', sep=';', header=None, names=['Text', 'Label'] , encoding='unicode_escape'))\n",
        "data = pd.read_csv('/content/drive/MyDrive/B.TechProject/data2.txt', sep=';', header=None, names=['Text', 'Label'] , encoding='unicode_escape')\n",
        "# Check for missing values and handle them\n",
        "# data.dropna(subset=['Text', 'Label'], inplace=True)  # Drop rows with missing values\n",
        "# print(data)\n",
        "from sklearn.impute import SimpleImputer\n",
        "\n",
        "# Create an imputer object\n",
        "imputer = SimpleImputer(strategy='most_frequent')\n",
        "\n",
        "# Impute missing values in 'Text' and 'Label' columns\n",
        "# data[['Text', 'Label']] = imputer.fit_transform(data[['Text', 'Label']])\n",
        "\n",
        "X_train, X_test, y_train, y_test = train_test_split(data['Text'], data['Label'], test_size=0.1, random_state=42)\n",
        "vectorizer = TfidfVectorizer()\n",
        "X_train = vectorizer.fit_transform(X_train)\n",
        "X_test = vectorizer.transform(X_test)\n",
        "classifier = SVC(kernel='linear', C=1, random_state=42)\n",
        "classifier.fit(X_train, y_train)\n",
        "accuracy = classifier.score(X_test, y_test)\n",
        "print('Accuracy:', accuracy)\n",
        "def classify_input(text):\n",
        "    vectorized_text = vectorizer.transform([text])\n",
        "    label = classifier.predict(vectorized_text)[0]\n",
        "    return label\n",
        "for keyword in keywords:\n",
        "  level=classify_input(keyword)\n",
        "  sentence=f'{level} {keyword}'\n",
        "  random_bloomsLevel.append(sentence)\n",
        "print(random_bloomsLevel)"
      ]
    },
    {
      "cell_type": "code",
      "execution_count": null,
      "metadata": {
        "id": "ScmeJe75PkFW"
      },
      "outputs": [],
      "source": [
        "from google.colab import drive\n",
        "drive.mount('/content/drive')"
      ]
    },
    {
      "cell_type": "markdown",
      "metadata": {
        "id": "dtI9f5AvPHPH"
      },
      "source": [
        "keyword to sentence using bert\n"
      ]
    },
    {
      "cell_type": "code",
      "execution_count": 40,
      "metadata": {
        "id": "FupnNOfwPH0l"
      },
      "outputs": [],
      "source": [
        "\n",
        "import requests\n",
        "bert_sentences=[]\n",
        "keywords\n",
        "url = \"https://bloom-bert-api-dmkyqqzsta-as.a.run.app/predict\"\n",
        "for keyword in keywords:\n",
        "\n",
        "    data = {\"text\": keyword}\n",
        "    response = requests.post(url, json=data)\n",
        "    data=response.json()['blooms_level']\n",
        "    sentence = f'{data} {keyword} .'\n",
        "    bert_sentences.append(sentence)\n",
        "\n",
        "\n",
        "\n"
      ]
    },
    {
      "cell_type": "markdown",
      "metadata": {
        "id": "DAWmUdu0tD-D"
      },
      "source": []
    },
    {
      "cell_type": "code",
      "execution_count": 41,
      "metadata": {
        "colab": {
          "base_uri": "https://localhost:8080/"
        },
        "id": "b5TbpHp5tEqO",
        "outputId": "ccba6a44-6a3f-4967-ce06-6ec6feaf2bed"
      },
      "outputs": [
        {
          "name": "stdout",
          "output_type": "stream",
          "text": [
            "['mark', 'information system', 'software engineering objective', 'definition', 'software development life cycle', 'software process model waterfall model', 'spiral model', 'agile model', 'software requirement', 'sr', 'feasibility analysis', 'software design', 'context diagram', 'dfd', 'physical', 'logical dfds', 'data dictionary', 'er diagram', 'decision tree', 'decision table', 'structure chart', 'english', 'software testing', 'level', 'white-box', 'black-box testing', 'test case generation', 'acceptance testing', 'software validation', 'regression testing', 'mutation analysis', 'cyclomatic complexity', 'reliability concept', 'software reliability', 'hazard', 'mttf', 'mtbf', 'repair', 'availability', 'software quality', 'quality attribute', 'risk management', 'quality factor', 'software quality assurance', 'quality standard', 'total quality management', 'software project management', 'software project planning', 'project scheduling', 'software configuration management', 'cost estimation-cocomo', 'function point analysis', 'halstead metric', 'project management tools- wb', 'gantt chart', 'pert', 'critical path method']\n"
          ]
        }
      ],
      "source": [
        "print(keywords)"
      ]
    },
    {
      "cell_type": "code",
      "execution_count": null,
      "metadata": {
        "colab": {
          "base_uri": "https://localhost:8080/"
        },
        "id": "vMrWg1fAd_gJ",
        "outputId": "5d2a33ce-e92c-4d8e-e3f1-926f80e0e53f"
      },
      "outputs": [],
      "source": [
        "import requests\n",
        "\n",
        "# List to hold Bloom's levels\n",
        "chatgpt_BloomsLevel = []\n",
        "\n",
        "# List of keywords\n",
        "keywords = [\n",
        "    'information system', 'software engineering objective', 'definition',\n",
        "    'software development life cycle', 'software process model waterfall model',\n",
        "    'spiral model', 'agile model', 'software requirement', 'sr',\n",
        "    'feasibility analysis', 'software design', 'context diagram', 'dfd',\n",
        "    'physical', 'logical dfds', 'data dictionary', 'er diagram',\n",
        "    'decision tree', 'decision table', 'structure chart', 'english',\n",
        "    'software testing', 'level', 'white-box', 'black-box testing',\n",
        "    'test', 'generation', 'acceptance testing', 'software validation',\n",
        "    'regression testing', 'mutation analysis', 'cyclomatic complexity',\n",
        "    'reliability concept', 'software reliability', 'hazard', 'mttf',\n",
        "    'mtbf', 'repair', 'availability', 'software quality',\n",
        "    'quality attribute', 'risk management', 'quality factor',\n",
        "    'software quality assurance', 'quality standard',\n",
        "    'total quality management', 'software project management',\n",
        "    'software project planning', 'project scheduling',\n",
        "    'software configuration management', 'cost estimation-cocomo',\n",
        "    'function', 'halstead metric', 'project management tools- wb',\n",
        "    'gantt chart', 'pert', 'critical path method'\n",
        "]\n",
        "\n",
        "# OpenAI API details\n",
        "myurl = \"https://api.openai.com/v1/chat/completions\"\n",
        "api_key = \"xxxxxxxxxxxxxxxxxxxxxxxxxxxxxxxxxxxxxxxxxxxxxxxxx\"\n",
        "headers = {\n",
        "    \"Content-Type\": \"application/json\",\n",
        "    \"Authorization\": f\"Bearer {api_key}\"\n",
        "}\n",
        "\n",
        "# Loop through keywords and request Bloom's level\n",
        "for keyword in keywords:\n",
        "    data = {\n",
        "        \"model\": \"babbage-002\",  # Specify the model you want to use\n",
        "        \"messages\": [\n",
        "            {\n",
        "                \"role\": \"user\",\n",
        "                \"content\": f'What is the Bloom\\'s level of the topic \"{keyword}\"? Say it in a single word proper verb without punctuation.'\n",
        "            }\n",
        "        ],\n",
        "        \"temperature\": 0.5,\n",
        "        \"max_tokens\": 1000\n",
        "    }\n",
        "\n",
        "    # Make the API request\n",
        "    response = requests.post(myurl, headers=headers, json=data)\n",
        "\n",
        "    # Check if the response was successful\n",
        "    if response.status_code == 200:\n",
        "        level = response.json()['choices'][0]['message']['content'].strip()\n",
        "        sentence = f'{level} {keyword}'\n",
        "        chatgpt_BloomsLevel.append(sentence)\n",
        "    else:\n",
        "        print(f\"Error: {response.status_code} - {response.text}\")\n",
        "\n",
        "# Print the results\n",
        "print(chatgpt_BloomsLevel)\n"
      ]
    },
    {
      "cell_type": "code",
      "execution_count": null,
      "metadata": {
        "id": "Hwkq7N0ycidf"
      },
      "outputs": [],
      "source": [
        "  level=response.json()['choices'][0]['text']\n",
        "  sentence= f'{level} {keyword}'\n",
        "  sentence=sentence.replace('\\n\\n', '')\n",
        "  chatgpt_BloomsLevel.append(sentence)"
      ]
    },
    {
      "cell_type": "code",
      "execution_count": 46,
      "metadata": {
        "id": "qm136et91nH9"
      },
      "outputs": [],
      "source": [
        "keywords.insert(0,'TOPICS')\n",
        "random_bloomsLevel.insert(0,'Blooms  Level by SVM')\n",
        "bert_sentences.insert(0,\"Blooms  Level by BERT MODEL\")\n",
        "chatgpt_BloomsLevel.insert(0,\"Blooms  Level by CHATGPT\")"
      ]
    },
    {
      "cell_type": "code",
      "execution_count": 47,
      "metadata": {
        "id": "byYZQ2JUV-8L"
      },
      "outputs": [],
      "source": [
        "\n",
        "arr1=keywords\n",
        "arr2=random_bloomsLevel\n",
        "arr3=bert_sentences\n",
        "arr4=chatgpt_BloomsLevel\n",
        "arr5=['Manual Classification', 'Analyze information system', 'Apply software engineering objective', 'Remember definition', 'Analyze software development life cycle', 'Apply software process model waterfall model', 'Apply spiral model', 'Apply agile model', 'Analyze software requirement', 'Analyze sr', 'Analyze feasibility analysis', 'Synthesis software design', 'Analyze context diagram', 'Analyze dfd', 'Synthesis physical', 'Analyze logical dfds', 'Remember data dictionary', 'Analyze er diagram', 'Synthesis decision tree', 'Synthesis decision table', 'Synthesis structure chart', 'Comprehension english', 'Synthesis software testing', 'Evaluate level', 'Analyze white-box', 'Apply black-box testing', 'Apply test', 'Analysis generation', 'Analysis acceptance testing', 'Analysis software validation', 'Apply regression testing', 'Analyze mutation analysis', 'Synthesis cyclomatic complexity', 'Remembee reliability concept', 'Analysis software reliability', 'Evaluate hazard', 'Calculate mttf', 'Calculate mtbf', 'Remember repair', 'Analyze availability', 'Evaluate software quality', 'Evaluate quality attribute', 'Analyze risk management', 'Evaluate quality factor', 'Evaluate software quality assurance', 'Evaluate quality standard', 'Evaluate total quality management', 'Synthesis software project management', 'Analyze software project planning', 'Apply project scheduling', 'Analyze software configuration management', 'Analyze cost estimation-cocomo', 'Evaluate function', 'Synthesis halstead metric', 'Apply project management tools- wb', 'Synthesis gantt chart', 'Apply pert', 'Apply critical path method']\n",
        "\n",
        "max_len_arr1 = max([len(s) for s in arr1])\n",
        "max_len_arr2 = max([len(s) for s in arr2])\n",
        "max_len_arr3 = max([len(s) for s in arr3])\n",
        "max_len_arr4 = max([len(s) for s in arr4])\n",
        "max_len_arr5 = max([len(s) for s in arr5])\n",
        "\n",
        "length = 10\n",
        "char = '-'\n",
        "line = char * (max_len_arr1+max_len_arr2+max_len_arr3+max_len_arr4+40+max_len_arr5)\n",
        "line1= char*(max_len_arr1+max_len_arr2)\n",
        "line2= char*(max_len_arr1+max_len_arr3)\n",
        "line3= char*(max_len_arr1+max_len_arr4)\n",
        "\n",
        "\n",
        "\n",
        "\n",
        "\n"
      ]
    },
    {
      "cell_type": "code",
      "execution_count": 48,
      "metadata": {
        "colab": {
          "base_uri": "https://localhost:8080/"
        },
        "id": "u-iQnk-f8OYa",
        "outputId": "18edb969-5d33-4cf4-a432-a66ea2d43fe7"
      },
      "outputs": [
        {
          "name": "stdout",
          "output_type": "stream",
          "text": [
            "-------------------SVM Method--------------------\n",
            "\n",
            "\n",
            "|TOPICS                                \t | Blooms  Level by SVM                              \t \n",
            "----------------------------------------------------------------------------------------\n",
            "|information system                    \t | Knowledge mark                                    \t \n",
            "----------------------------------------------------------------------------------------\n",
            "|software engineering objective        \t | Knowledge information system                      \t \n",
            "----------------------------------------------------------------------------------------\n",
            "|definition                            \t | Comprehension software engineering objective      \t \n",
            "----------------------------------------------------------------------------------------\n",
            "|software development life cycle       \t | Knowledge definition                              \t \n",
            "----------------------------------------------------------------------------------------\n",
            "|software process model waterfall model\t | Comprehension software development life cycle     \t \n",
            "----------------------------------------------------------------------------------------\n",
            "|spiral model                          \t | Application software process model waterfall model\t \n",
            "----------------------------------------------------------------------------------------\n",
            "|agile model                           \t | Application spiral model                          \t \n",
            "----------------------------------------------------------------------------------------\n",
            "|software requirement                  \t | Application agile model                           \t \n",
            "----------------------------------------------------------------------------------------\n",
            "|sr                                    \t | Comprehension software requirement                \t \n",
            "----------------------------------------------------------------------------------------\n",
            "|feasibility analysis                  \t | Knowledge sr                                      \t \n",
            "----------------------------------------------------------------------------------------\n",
            "|software design                       \t | Comprehension feasibility analysis                \t \n",
            "----------------------------------------------------------------------------------------\n",
            "|context diagram                       \t | Comprehension software design                     \t \n",
            "----------------------------------------------------------------------------------------\n",
            "|dfd                                   \t | Knowledge context diagram                         \t \n",
            "----------------------------------------------------------------------------------------\n",
            "|physical                              \t | Knowledge dfd                                     \t \n",
            "----------------------------------------------------------------------------------------\n",
            "|logical dfds                          \t | Knowledge physical                                \t \n",
            "----------------------------------------------------------------------------------------\n",
            "|data dictionary                       \t | Knowledge logical dfds                            \t \n",
            "----------------------------------------------------------------------------------------\n",
            "|er diagram                            \t | Knowledge data dictionary                         \t \n",
            "----------------------------------------------------------------------------------------\n",
            "|decision tree                         \t | Knowledge er diagram                              \t \n",
            "----------------------------------------------------------------------------------------\n",
            "|decision table                        \t | Analysis decision tree                            \t \n",
            "----------------------------------------------------------------------------------------\n",
            "|structure chart                       \t | Analysis decision table                           \t \n",
            "----------------------------------------------------------------------------------------\n",
            "|english                               \t | Knowledge structure chart                         \t \n",
            "----------------------------------------------------------------------------------------\n",
            "|software testing                      \t | Comprehension english                             \t \n",
            "----------------------------------------------------------------------------------------\n",
            "|level                                 \t | Comprehension software testing                    \t \n",
            "----------------------------------------------------------------------------------------\n",
            "|white-box                             \t | Application level                                 \t \n",
            "----------------------------------------------------------------------------------------\n",
            "|black-box testing                     \t | Knowledge white-box                               \t \n",
            "----------------------------------------------------------------------------------------\n",
            "|test                                  \t | Knowledge black-box testing                       \t \n",
            "----------------------------------------------------------------------------------------\n",
            "|generation                            \t | Analysis test case generation                     \t \n",
            "----------------------------------------------------------------------------------------\n",
            "|acceptance testing                    \t | Knowledge acceptance testing                      \t \n",
            "----------------------------------------------------------------------------------------\n",
            "|software validation                   \t | Comprehension software validation                 \t \n",
            "----------------------------------------------------------------------------------------\n",
            "|regression testing                    \t | Knowledge regression testing                      \t \n",
            "----------------------------------------------------------------------------------------\n",
            "|mutation analysis                     \t | Comprehension mutation analysis                   \t \n",
            "----------------------------------------------------------------------------------------\n",
            "|cyclomatic complexity                 \t | Knowledge cyclomatic complexity                   \t \n",
            "----------------------------------------------------------------------------------------\n",
            "|reliability concept                   \t | Application reliability concept                   \t \n",
            "----------------------------------------------------------------------------------------\n",
            "|software reliability                  \t | Comprehension software reliability                \t \n",
            "----------------------------------------------------------------------------------------\n",
            "|hazard                                \t | Knowledge hazard                                  \t \n",
            "----------------------------------------------------------------------------------------\n",
            "|mttf                                  \t | Knowledge mttf                                    \t \n",
            "----------------------------------------------------------------------------------------\n",
            "|mtbf                                  \t | Knowledge mtbf                                    \t \n",
            "----------------------------------------------------------------------------------------\n",
            "|repair                                \t | Knowledge repair                                  \t \n",
            "----------------------------------------------------------------------------------------\n",
            "|availability                          \t | Knowledge availability                            \t \n",
            "----------------------------------------------------------------------------------------\n",
            "|software quality                      \t | Comprehension software quality                    \t \n",
            "----------------------------------------------------------------------------------------\n",
            "|quality attribute                     \t | Comprehension quality attribute                   \t \n",
            "----------------------------------------------------------------------------------------\n",
            "|risk management                       \t | Knowledge risk management                         \t \n",
            "----------------------------------------------------------------------------------------\n",
            "|quality factor                        \t | Comprehension quality factor                      \t \n",
            "----------------------------------------------------------------------------------------\n",
            "|software quality assurance            \t | Comprehension software quality assurance          \t \n",
            "----------------------------------------------------------------------------------------\n",
            "|quality standard                      \t | Knowledge quality standard                        \t \n",
            "----------------------------------------------------------------------------------------\n",
            "|total quality management              \t | Comprehension total quality management            \t \n",
            "----------------------------------------------------------------------------------------\n",
            "|software project management           \t | Comprehension software project management         \t \n",
            "----------------------------------------------------------------------------------------\n",
            "|software project planning             \t | Comprehension software project planning           \t \n",
            "----------------------------------------------------------------------------------------\n",
            "|project scheduling                    \t | Knowledge project scheduling                      \t \n",
            "----------------------------------------------------------------------------------------\n",
            "|software configuration management     \t | Comprehension software configuration management   \t \n",
            "----------------------------------------------------------------------------------------\n",
            "|cost estimation-cocomo                \t | Knowledge cost estimation-cocomo                  \t \n",
            "----------------------------------------------------------------------------------------\n",
            "|function                              \t | Comprehension function point analysis             \t \n",
            "----------------------------------------------------------------------------------------\n",
            "|halstead metric                       \t | Knowledge halstead metric                         \t \n",
            "----------------------------------------------------------------------------------------\n",
            "|project management tools- wb          \t | Comprehension project management tools- wb        \t \n",
            "----------------------------------------------------------------------------------------\n",
            "|gantt chart                           \t | Knowledge gantt chart                             \t \n",
            "----------------------------------------------------------------------------------------\n",
            "|pert                                  \t | Knowledge pert                                    \t \n",
            "----------------------------------------------------------------------------------------\n",
            "|critical path method                  \t | Comprehension critical path method                \t \n",
            "----------------------------------------------------------------------------------------\n"
          ]
        }
      ],
      "source": [
        "print(\"-------------------SVM Method--------------------\\n\\n\")\n",
        "\n",
        "for i in range(len(arr1)):\n",
        "    print(f\"|{arr1[i]:<{max_len_arr1}}\\t | {arr2[i]:<{max_len_arr2}}\\t \")\n",
        "    print(line1)"
      ]
    },
    {
      "cell_type": "markdown",
      "metadata": {
        "id": "Z37ef40MT5eb"
      },
      "source": [
        "# New Section"
      ]
    },
    {
      "cell_type": "markdown",
      "metadata": {
        "id": "qaGurB-iT6O2"
      },
      "source": [
        "# New Section"
      ]
    },
    {
      "cell_type": "code",
      "execution_count": 49,
      "metadata": {
        "colab": {
          "base_uri": "https://localhost:8080/"
        },
        "id": "gRCBGW2t8UBj",
        "outputId": "f658ddc3-ee05-486c-8fe5-7f4773f7e871"
      },
      "outputs": [
        {
          "name": "stdout",
          "output_type": "stream",
          "text": [
            "-------------------Bert Model--------------------\n",
            "\n",
            "\n",
            "|TOPICS                                \t | Blooms  Level by BERT MODEL                        \t \n",
            "-----------------------------------------------------------------------------------------\n",
            "|information system                    \t | Remember mark .                                    \t \n",
            "-----------------------------------------------------------------------------------------\n",
            "|software engineering objective        \t | Remember information system .                      \t \n",
            "-----------------------------------------------------------------------------------------\n",
            "|definition                            \t | Apply software engineering objective .             \t \n",
            "-----------------------------------------------------------------------------------------\n",
            "|software development life cycle       \t | Remember definition .                              \t \n",
            "-----------------------------------------------------------------------------------------\n",
            "|software process model waterfall model\t | Remember software development life cycle .         \t \n",
            "-----------------------------------------------------------------------------------------\n",
            "|spiral model                          \t | Understand software process model waterfall model .\t \n",
            "-----------------------------------------------------------------------------------------\n",
            "|agile model                           \t | Understand spiral model .                          \t \n",
            "-----------------------------------------------------------------------------------------\n",
            "|software requirement                  \t | Create agile model .                               \t \n",
            "-----------------------------------------------------------------------------------------\n",
            "|sr                                    \t | Remember software requirement .                    \t \n",
            "-----------------------------------------------------------------------------------------\n",
            "|feasibility analysis                  \t | Remember sr .                                      \t \n",
            "-----------------------------------------------------------------------------------------\n",
            "|software design                       \t | Evaluate feasibility analysis .                    \t \n",
            "-----------------------------------------------------------------------------------------\n",
            "|context diagram                       \t | Remember software design .                         \t \n",
            "-----------------------------------------------------------------------------------------\n",
            "|dfd                                   \t | Remember context diagram .                         \t \n",
            "-----------------------------------------------------------------------------------------\n",
            "|physical                              \t | Remember dfd .                                     \t \n",
            "-----------------------------------------------------------------------------------------\n",
            "|logical dfds                          \t | Remember physical .                                \t \n",
            "-----------------------------------------------------------------------------------------\n",
            "|data dictionary                       \t | Remember logical dfds .                            \t \n",
            "-----------------------------------------------------------------------------------------\n",
            "|er diagram                            \t | Remember data dictionary .                         \t \n",
            "-----------------------------------------------------------------------------------------\n",
            "|decision tree                         \t | Remember er diagram .                              \t \n",
            "-----------------------------------------------------------------------------------------\n",
            "|decision table                        \t | Remember decision tree .                           \t \n",
            "-----------------------------------------------------------------------------------------\n",
            "|structure chart                       \t | Remember decision table .                          \t \n",
            "-----------------------------------------------------------------------------------------\n",
            "|english                               \t | Remember structure chart .                         \t \n",
            "-----------------------------------------------------------------------------------------\n",
            "|software testing                      \t | Remember english .                                 \t \n",
            "-----------------------------------------------------------------------------------------\n",
            "|level                                 \t | Remember software testing .                        \t \n",
            "-----------------------------------------------------------------------------------------\n",
            "|white-box                             \t | Remember level .                                   \t \n",
            "-----------------------------------------------------------------------------------------\n",
            "|black-box testing                     \t | Remember white-box .                               \t \n",
            "-----------------------------------------------------------------------------------------\n",
            "|test                                  \t | Remember black-box testing .                       \t \n",
            "-----------------------------------------------------------------------------------------\n",
            "|generation                            \t | Remember test case generation .                    \t \n",
            "-----------------------------------------------------------------------------------------\n",
            "|acceptance testing                    \t | Evaluate acceptance testing .                      \t \n",
            "-----------------------------------------------------------------------------------------\n",
            "|software validation                   \t | Analyse software validation .                      \t \n",
            "-----------------------------------------------------------------------------------------\n",
            "|regression testing                    \t | Analyse regression testing .                       \t \n",
            "-----------------------------------------------------------------------------------------\n",
            "|mutation analysis                     \t | Analyse mutation analysis .                        \t \n",
            "-----------------------------------------------------------------------------------------\n",
            "|cyclomatic complexity                 \t | Remember cyclomatic complexity .                   \t \n",
            "-----------------------------------------------------------------------------------------\n",
            "|reliability concept                   \t | Remember reliability concept .                     \t \n",
            "-----------------------------------------------------------------------------------------\n",
            "|software reliability                  \t | Remember software reliability .                    \t \n",
            "-----------------------------------------------------------------------------------------\n",
            "|hazard                                \t | Remember hazard .                                  \t \n",
            "-----------------------------------------------------------------------------------------\n",
            "|mttf                                  \t | Remember mttf .                                    \t \n",
            "-----------------------------------------------------------------------------------------\n",
            "|mtbf                                  \t | Remember mtbf .                                    \t \n",
            "-----------------------------------------------------------------------------------------\n",
            "|repair                                \t | Remember repair .                                  \t \n",
            "-----------------------------------------------------------------------------------------\n",
            "|availability                          \t | Remember availability .                            \t \n",
            "-----------------------------------------------------------------------------------------\n",
            "|software quality                      \t | Evaluate software quality .                        \t \n",
            "-----------------------------------------------------------------------------------------\n",
            "|quality attribute                     \t | Remember quality attribute .                       \t \n",
            "-----------------------------------------------------------------------------------------\n",
            "|risk management                       \t | Remember risk management .                         \t \n",
            "-----------------------------------------------------------------------------------------\n",
            "|quality factor                        \t | Remember quality factor .                          \t \n",
            "-----------------------------------------------------------------------------------------\n",
            "|software quality assurance            \t | Evaluate software quality assurance .              \t \n",
            "-----------------------------------------------------------------------------------------\n",
            "|quality standard                      \t | Remember quality standard .                        \t \n",
            "-----------------------------------------------------------------------------------------\n",
            "|total quality management              \t | Evaluate total quality management .                \t \n",
            "-----------------------------------------------------------------------------------------\n",
            "|software project management           \t | Remember software project management .             \t \n",
            "-----------------------------------------------------------------------------------------\n",
            "|software project planning             \t | Remember software project planning .               \t \n",
            "-----------------------------------------------------------------------------------------\n",
            "|project scheduling                    \t | Remember project scheduling .                      \t \n",
            "-----------------------------------------------------------------------------------------\n",
            "|software configuration management     \t | Remember software configuration management .       \t \n",
            "-----------------------------------------------------------------------------------------\n",
            "|cost estimation-cocomo                \t | Understand cost estimation-cocomo .                \t \n",
            "-----------------------------------------------------------------------------------------\n",
            "|function                              \t | Analyse function point analysis .                  \t \n",
            "-----------------------------------------------------------------------------------------\n",
            "|halstead metric                       \t | Remember halstead metric .                         \t \n",
            "-----------------------------------------------------------------------------------------\n",
            "|project management tools- wb          \t | Remember project management tools- wb .            \t \n",
            "-----------------------------------------------------------------------------------------\n",
            "|gantt chart                           \t | Remember gantt chart .                             \t \n",
            "-----------------------------------------------------------------------------------------\n",
            "|pert                                  \t | Remember pert .                                    \t \n",
            "-----------------------------------------------------------------------------------------\n",
            "|critical path method                  \t | Remember critical path method .                    \t \n",
            "-----------------------------------------------------------------------------------------\n"
          ]
        }
      ],
      "source": [
        "print(\"-------------------Bert Model--------------------\\n\\n\")\n",
        "\n",
        "for i in range(len(arr1)):\n",
        "    print(f\"|{arr1[i]:<{max_len_arr1}}\\t | {arr3[i]:<{max_len_arr3}}\\t \")\n",
        "    print(line2)"
      ]
    },
    {
      "cell_type": "code",
      "execution_count": 50,
      "metadata": {
        "colab": {
          "base_uri": "https://localhost:8080/",
          "height": 288
        },
        "id": "FuoO8utr8cff",
        "outputId": "d5ad395e-5308-4760-effd-46aa81696c48"
      },
      "outputs": [
        {
          "name": "stdout",
          "output_type": "stream",
          "text": [
            "-------------------Chatgpt--------------------\n",
            "\n",
            "\n",
            "|TOPICS                                \t | Blooms  Level by CHATGPT\t\n",
            "--------------------------------------------------------------\n"
          ]
        },
        {
          "ename": "IndexError",
          "evalue": "list index out of range",
          "output_type": "error",
          "traceback": [
            "\u001b[0;31m---------------------------------------------------------------------------\u001b[0m",
            "\u001b[0;31mIndexError\u001b[0m                                Traceback (most recent call last)",
            "\u001b[0;32m<ipython-input-50-0a647157a9d7>\u001b[0m in \u001b[0;36m<cell line: 3>\u001b[0;34m()\u001b[0m\n\u001b[1;32m      2\u001b[0m \u001b[0;34m\u001b[0m\u001b[0m\n\u001b[1;32m      3\u001b[0m \u001b[0;32mfor\u001b[0m \u001b[0mi\u001b[0m \u001b[0;32min\u001b[0m \u001b[0mrange\u001b[0m\u001b[0;34m(\u001b[0m\u001b[0mlen\u001b[0m\u001b[0;34m(\u001b[0m\u001b[0marr1\u001b[0m\u001b[0;34m)\u001b[0m\u001b[0;34m)\u001b[0m\u001b[0;34m:\u001b[0m\u001b[0;34m\u001b[0m\u001b[0;34m\u001b[0m\u001b[0m\n\u001b[0;32m----> 4\u001b[0;31m     \u001b[0mprint\u001b[0m\u001b[0;34m(\u001b[0m\u001b[0;34mf\"|{arr1[i]:<{max_len_arr1}}\\t | {arr4[i]:<{max_len_arr4}}\\t\"\u001b[0m\u001b[0;34m)\u001b[0m\u001b[0;34m\u001b[0m\u001b[0;34m\u001b[0m\u001b[0m\n\u001b[0m\u001b[1;32m      5\u001b[0m     \u001b[0mprint\u001b[0m\u001b[0;34m(\u001b[0m\u001b[0mline3\u001b[0m\u001b[0;34m)\u001b[0m\u001b[0;34m\u001b[0m\u001b[0;34m\u001b[0m\u001b[0m\n",
            "\u001b[0;31mIndexError\u001b[0m: list index out of range"
          ]
        }
      ],
      "source": [
        "print(\"-------------------Chatgpt--------------------\\n\\n\")\n",
        "\n",
        "for i in range(len(arr1)):\n",
        "    print(f\"|{arr1[i]:<{max_len_arr1}}\\t | {arr4[i]:<{max_len_arr4}}\\t\")\n",
        "    print(line3)"
      ]
    },
    {
      "cell_type": "code",
      "execution_count": 60,
      "metadata": {
        "colab": {
          "base_uri": "https://localhost:8080/"
        },
        "id": "WQVcCH_Q8oaX",
        "outputId": "04d1dc01-b915-4c27-b9ba-031ab2579dde"
      },
      "outputs": [
        {
          "name": "stdout",
          "output_type": "stream",
          "text": [
            "-------------------------------------------------------------------------------------------------------------------------------------------------------------------------------------------------------------------------------------------------------\n",
            "| TOPICS                                \t | Blooms  Level by SVM                              \t | Blooms  Level by BERT MODEL                        \t  | Manual Classification                         \n",
            "-------------------------------------------------------------------------------------------------------------------------------------------------------------------------------------------------------------------------------------------------------\n",
            "| information system                    \t | Knowledge mark                                    \t | Remember mark .                                    \t  | Analyze information system                    \n",
            "-------------------------------------------------------------------------------------------------------------------------------------------------------------------------------------------------------------------------------------------------------\n",
            "| software engineering objective        \t | Knowledge information system                      \t | Remember information system .                      \t  | Apply software engineering objective          \n",
            "-------------------------------------------------------------------------------------------------------------------------------------------------------------------------------------------------------------------------------------------------------\n",
            "| definition                            \t | Comprehension software engineering objective      \t | Apply software engineering objective .             \t  | Remember definition                           \n",
            "-------------------------------------------------------------------------------------------------------------------------------------------------------------------------------------------------------------------------------------------------------\n",
            "| software development life cycle       \t | Knowledge definition                              \t | Remember definition .                              \t  | Analyze software development life cycle       \n",
            "-------------------------------------------------------------------------------------------------------------------------------------------------------------------------------------------------------------------------------------------------------\n",
            "| software process model waterfall model\t | Comprehension software development life cycle     \t | Remember software development life cycle .         \t  | Apply software process model waterfall model  \n",
            "-------------------------------------------------------------------------------------------------------------------------------------------------------------------------------------------------------------------------------------------------------\n",
            "| spiral model                          \t | Application software process model waterfall model\t | Understand software process model waterfall model .\t  | Apply spiral model                            \n",
            "-------------------------------------------------------------------------------------------------------------------------------------------------------------------------------------------------------------------------------------------------------\n",
            "| agile model                           \t | Application spiral model                          \t | Understand spiral model .                          \t  | Apply agile model                             \n",
            "-------------------------------------------------------------------------------------------------------------------------------------------------------------------------------------------------------------------------------------------------------\n",
            "| software requirement                  \t | Application agile model                           \t | Create agile model .                               \t  | Analyze software requirement                  \n",
            "-------------------------------------------------------------------------------------------------------------------------------------------------------------------------------------------------------------------------------------------------------\n",
            "| sr                                    \t | Comprehension software requirement                \t | Remember software requirement .                    \t  | Analyze sr                                    \n",
            "-------------------------------------------------------------------------------------------------------------------------------------------------------------------------------------------------------------------------------------------------------\n",
            "| feasibility analysis                  \t | Knowledge sr                                      \t | Remember sr .                                      \t  | Analyze feasibility analysis                  \n",
            "-------------------------------------------------------------------------------------------------------------------------------------------------------------------------------------------------------------------------------------------------------\n",
            "| software design                       \t | Comprehension feasibility analysis                \t | Evaluate feasibility analysis .                    \t  | Synthesis software design                     \n",
            "-------------------------------------------------------------------------------------------------------------------------------------------------------------------------------------------------------------------------------------------------------\n",
            "| context diagram                       \t | Comprehension software design                     \t | Remember software design .                         \t  | Analyze context diagram                       \n",
            "-------------------------------------------------------------------------------------------------------------------------------------------------------------------------------------------------------------------------------------------------------\n",
            "| dfd                                   \t | Knowledge context diagram                         \t | Remember context diagram .                         \t  | Analyze dfd                                   \n",
            "-------------------------------------------------------------------------------------------------------------------------------------------------------------------------------------------------------------------------------------------------------\n",
            "| physical                              \t | Knowledge dfd                                     \t | Remember dfd .                                     \t  | Synthesis physical                            \n",
            "-------------------------------------------------------------------------------------------------------------------------------------------------------------------------------------------------------------------------------------------------------\n",
            "| logical dfds                          \t | Knowledge physical                                \t | Remember physical .                                \t  | Analyze logical dfds                          \n",
            "-------------------------------------------------------------------------------------------------------------------------------------------------------------------------------------------------------------------------------------------------------\n",
            "| data dictionary                       \t | Knowledge logical dfds                            \t | Remember logical dfds .                            \t  | Remember data dictionary                      \n",
            "-------------------------------------------------------------------------------------------------------------------------------------------------------------------------------------------------------------------------------------------------------\n",
            "| er diagram                            \t | Knowledge data dictionary                         \t | Remember data dictionary .                         \t  | Analyze er diagram                            \n",
            "-------------------------------------------------------------------------------------------------------------------------------------------------------------------------------------------------------------------------------------------------------\n",
            "| decision tree                         \t | Knowledge er diagram                              \t | Remember er diagram .                              \t  | Synthesis decision tree                       \n",
            "-------------------------------------------------------------------------------------------------------------------------------------------------------------------------------------------------------------------------------------------------------\n",
            "| decision table                        \t | Analysis decision tree                            \t | Remember decision tree .                           \t  | Synthesis decision table                      \n",
            "-------------------------------------------------------------------------------------------------------------------------------------------------------------------------------------------------------------------------------------------------------\n",
            "| structure chart                       \t | Analysis decision table                           \t | Remember decision table .                          \t  | Synthesis structure chart                     \n",
            "-------------------------------------------------------------------------------------------------------------------------------------------------------------------------------------------------------------------------------------------------------\n",
            "| english                               \t | Knowledge structure chart                         \t | Remember structure chart .                         \t  | Comprehension english                         \n",
            "-------------------------------------------------------------------------------------------------------------------------------------------------------------------------------------------------------------------------------------------------------\n",
            "| software testing                      \t | Comprehension english                             \t | Remember english .                                 \t  | Synthesis software testing                    \n",
            "-------------------------------------------------------------------------------------------------------------------------------------------------------------------------------------------------------------------------------------------------------\n",
            "| level                                 \t | Comprehension software testing                    \t | Remember software testing .                        \t  | Evaluate level                                \n",
            "-------------------------------------------------------------------------------------------------------------------------------------------------------------------------------------------------------------------------------------------------------\n",
            "| white-box                             \t | Application level                                 \t | Remember level .                                   \t  | Analyze white-box                             \n",
            "-------------------------------------------------------------------------------------------------------------------------------------------------------------------------------------------------------------------------------------------------------\n",
            "| black-box testing                     \t | Knowledge white-box                               \t | Remember white-box .                               \t  | Apply black-box testing                       \n",
            "-------------------------------------------------------------------------------------------------------------------------------------------------------------------------------------------------------------------------------------------------------\n",
            "| test                                  \t | Knowledge black-box testing                       \t | Remember black-box testing .                       \t  | Apply test                                    \n",
            "-------------------------------------------------------------------------------------------------------------------------------------------------------------------------------------------------------------------------------------------------------\n",
            "| generation                            \t | Analysis test case generation                     \t | Remember test case generation .                    \t  | Analysis generation                           \n",
            "-------------------------------------------------------------------------------------------------------------------------------------------------------------------------------------------------------------------------------------------------------\n",
            "| acceptance testing                    \t | Knowledge acceptance testing                      \t | Evaluate acceptance testing .                      \t  | Analysis acceptance testing                   \n",
            "-------------------------------------------------------------------------------------------------------------------------------------------------------------------------------------------------------------------------------------------------------\n",
            "| software validation                   \t | Comprehension software validation                 \t | Analyse software validation .                      \t  | Analysis software validation                  \n",
            "-------------------------------------------------------------------------------------------------------------------------------------------------------------------------------------------------------------------------------------------------------\n",
            "| regression testing                    \t | Knowledge regression testing                      \t | Analyse regression testing .                       \t  | Apply regression testing                      \n",
            "-------------------------------------------------------------------------------------------------------------------------------------------------------------------------------------------------------------------------------------------------------\n",
            "| mutation analysis                     \t | Comprehension mutation analysis                   \t | Analyse mutation analysis .                        \t  | Analyze mutation analysis                     \n",
            "-------------------------------------------------------------------------------------------------------------------------------------------------------------------------------------------------------------------------------------------------------\n",
            "| cyclomatic complexity                 \t | Knowledge cyclomatic complexity                   \t | Remember cyclomatic complexity .                   \t  | Synthesis cyclomatic complexity               \n",
            "-------------------------------------------------------------------------------------------------------------------------------------------------------------------------------------------------------------------------------------------------------\n",
            "| reliability concept                   \t | Application reliability concept                   \t | Remember reliability concept .                     \t  | Remembee reliability concept                  \n",
            "-------------------------------------------------------------------------------------------------------------------------------------------------------------------------------------------------------------------------------------------------------\n",
            "| software reliability                  \t | Comprehension software reliability                \t | Remember software reliability .                    \t  | Analysis software reliability                 \n",
            "-------------------------------------------------------------------------------------------------------------------------------------------------------------------------------------------------------------------------------------------------------\n",
            "| hazard                                \t | Knowledge hazard                                  \t | Remember hazard .                                  \t  | Evaluate hazard                               \n",
            "-------------------------------------------------------------------------------------------------------------------------------------------------------------------------------------------------------------------------------------------------------\n",
            "| mttf                                  \t | Knowledge mttf                                    \t | Remember mttf .                                    \t  | Calculate mttf                                \n",
            "-------------------------------------------------------------------------------------------------------------------------------------------------------------------------------------------------------------------------------------------------------\n",
            "| mtbf                                  \t | Knowledge mtbf                                    \t | Remember mtbf .                                    \t  | Calculate mtbf                                \n",
            "-------------------------------------------------------------------------------------------------------------------------------------------------------------------------------------------------------------------------------------------------------\n",
            "| repair                                \t | Knowledge repair                                  \t | Remember repair .                                  \t  | Remember repair                               \n",
            "-------------------------------------------------------------------------------------------------------------------------------------------------------------------------------------------------------------------------------------------------------\n",
            "| availability                          \t | Knowledge availability                            \t | Remember availability .                            \t  | Analyze availability                          \n",
            "-------------------------------------------------------------------------------------------------------------------------------------------------------------------------------------------------------------------------------------------------------\n",
            "| software quality                      \t | Comprehension software quality                    \t | Evaluate software quality .                        \t  | Evaluate software quality                     \n",
            "-------------------------------------------------------------------------------------------------------------------------------------------------------------------------------------------------------------------------------------------------------\n",
            "| quality attribute                     \t | Comprehension quality attribute                   \t | Remember quality attribute .                       \t  | Evaluate quality attribute                    \n",
            "-------------------------------------------------------------------------------------------------------------------------------------------------------------------------------------------------------------------------------------------------------\n",
            "| risk management                       \t | Knowledge risk management                         \t | Remember risk management .                         \t  | Analyze risk management                       \n",
            "-------------------------------------------------------------------------------------------------------------------------------------------------------------------------------------------------------------------------------------------------------\n",
            "| quality factor                        \t | Comprehension quality factor                      \t | Remember quality factor .                          \t  | Evaluate quality factor                       \n",
            "-------------------------------------------------------------------------------------------------------------------------------------------------------------------------------------------------------------------------------------------------------\n",
            "| software quality assurance            \t | Comprehension software quality assurance          \t | Evaluate software quality assurance .              \t  | Evaluate software quality assurance           \n",
            "-------------------------------------------------------------------------------------------------------------------------------------------------------------------------------------------------------------------------------------------------------\n",
            "| quality standard                      \t | Knowledge quality standard                        \t | Remember quality standard .                        \t  | Evaluate quality standard                     \n",
            "-------------------------------------------------------------------------------------------------------------------------------------------------------------------------------------------------------------------------------------------------------\n",
            "| total quality management              \t | Comprehension total quality management            \t | Evaluate total quality management .                \t  | Evaluate total quality management             \n",
            "-------------------------------------------------------------------------------------------------------------------------------------------------------------------------------------------------------------------------------------------------------\n",
            "| software project management           \t | Comprehension software project management         \t | Remember software project management .             \t  | Synthesis software project management         \n",
            "-------------------------------------------------------------------------------------------------------------------------------------------------------------------------------------------------------------------------------------------------------\n",
            "| software project planning             \t | Comprehension software project planning           \t | Remember software project planning .               \t  | Analyze software project planning             \n",
            "-------------------------------------------------------------------------------------------------------------------------------------------------------------------------------------------------------------------------------------------------------\n",
            "| project scheduling                    \t | Knowledge project scheduling                      \t | Remember project scheduling .                      \t  | Apply project scheduling                      \n",
            "-------------------------------------------------------------------------------------------------------------------------------------------------------------------------------------------------------------------------------------------------------\n",
            "| software configuration management     \t | Comprehension software configuration management   \t | Remember software configuration management .       \t  | Analyze software configuration management     \n",
            "-------------------------------------------------------------------------------------------------------------------------------------------------------------------------------------------------------------------------------------------------------\n",
            "| cost estimation-cocomo                \t | Knowledge cost estimation-cocomo                  \t | Understand cost estimation-cocomo .                \t  | Analyze cost estimation-cocomo                \n",
            "-------------------------------------------------------------------------------------------------------------------------------------------------------------------------------------------------------------------------------------------------------\n",
            "| function                              \t | Comprehension function point analysis             \t | Analyse function point analysis .                  \t  | Evaluate function                             \n",
            "-------------------------------------------------------------------------------------------------------------------------------------------------------------------------------------------------------------------------------------------------------\n",
            "| halstead metric                       \t | Knowledge halstead metric                         \t | Remember halstead metric .                         \t  | Synthesis halstead metric                     \n",
            "-------------------------------------------------------------------------------------------------------------------------------------------------------------------------------------------------------------------------------------------------------\n",
            "| project management tools- wb          \t | Comprehension project management tools- wb        \t | Remember project management tools- wb .            \t  | Apply project management tools- wb            \n",
            "-------------------------------------------------------------------------------------------------------------------------------------------------------------------------------------------------------------------------------------------------------\n",
            "| gantt chart                           \t | Knowledge gantt chart                             \t | Remember gantt chart .                             \t  | Synthesis gantt chart                         \n",
            "-------------------------------------------------------------------------------------------------------------------------------------------------------------------------------------------------------------------------------------------------------\n",
            "| pert                                  \t | Knowledge pert                                    \t | Remember pert .                                    \t  | Apply pert                                    \n",
            "-------------------------------------------------------------------------------------------------------------------------------------------------------------------------------------------------------------------------------------------------------\n",
            "| critical path method                  \t | Comprehension critical path method                \t | Remember critical path method .                    \t  | Apply critical path method                    \n",
            "-------------------------------------------------------------------------------------------------------------------------------------------------------------------------------------------------------------------------------------------------------\n"
          ]
        }
      ],
      "source": [
        "print(line)\n",
        "\n",
        "for i in range(len(arr1)):\n",
        "    print(f\"| {arr1[i]:<{max_len_arr1}}\\t | {arr2[i]:<{max_len_arr2}}\\t | {arr3[i]:<{max_len_arr3}}\\t  | {arr5[i]:<{max_len_arr5}}  \")\n",
        "    print(line)"
      ]
    }
  ],
  "metadata": {
    "colab": {
      "provenance": []
    },
    "kernelspec": {
      "display_name": "Python 3",
      "name": "python3"
    },
    "language_info": {
      "name": "python"
    }
  },
  "nbformat": 4,
  "nbformat_minor": 0
}
